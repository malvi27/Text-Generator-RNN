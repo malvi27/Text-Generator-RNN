{
  "nbformat": 4,
  "nbformat_minor": 0,
  "metadata": {
    "colab": {
      "provenance": []
    },
    "kernelspec": {
      "name": "python3",
      "display_name": "Python 3"
    },
    "language_info": {
      "name": "python"
    }
  },
  "cells": [
    {
      "cell_type": "code",
      "execution_count": 46,
      "metadata": {
        "colab": {
          "base_uri": "https://localhost:8080/"
        },
        "id": "gPIMg7DjvCTq",
        "outputId": "d3a2c75e-486b-4e1c-fb2a-ca4b38638bd2"
      },
      "outputs": [
        {
          "output_type": "stream",
          "name": "stderr",
          "text": [
            "[nltk_data] Downloading package punkt to /root/nltk_data...\n",
            "[nltk_data]   Package punkt is already up-to-date!\n"
          ]
        },
        {
          "output_type": "execute_result",
          "data": {
            "text/plain": [
              "True"
            ]
          },
          "metadata": {},
          "execution_count": 46
        }
      ],
      "source": [
        "import nltk\n",
        "nltk.download('punkt')\n"
      ]
    },
    {
      "cell_type": "code",
      "source": [
        "import torch\n",
        "import torch.nn as nn\n",
        "import re\n",
        "import itertools\n",
        "import numpy as np\n",
        "import random\n",
        "import time\n",
        "import math\n",
        "import matplotlib.pyplot as plt\n",
        "from torch.autograd import Variable"
      ],
      "metadata": {
        "id": "eZMj5mlFvgCh"
      },
      "execution_count": 47,
      "outputs": []
    },
    {
      "cell_type": "code",
      "source": [
        "vocabulary_size = 2500\n",
        "unknown_token = \"UNKNOWN_TOKEN\"\n",
        "sentence_start = \"START\"\n",
        "sentence_end = \"END\""
      ],
      "metadata": {
        "id": "iHQU7D2qvgGI"
      },
      "execution_count": 48,
      "outputs": []
    },
    {
      "cell_type": "code",
      "source": [
        "def pad_sequences(sequences, max_length):\n",
        "    padded = []\n",
        "    for seq in sequences:\n",
        "        if len(seq) < max_length:\n",
        "            padded_seq = seq + [0] * (max_length - len(seq))  # Pad with 0s\n",
        "        else:\n",
        "            padded_seq = seq[:max_length]  # Trim to max_length\n",
        "        padded.append(padded_seq)\n",
        "    return padded\n"
      ],
      "metadata": {
        "id": "eoYPYeUE2q9s"
      },
      "execution_count": 49,
      "outputs": []
    },
    {
      "cell_type": "code",
      "source": [
        "def preprocessing():\n",
        "    data = open('/data/test2.txt', 'r', encoding=\"utf-8-sig\")\n",
        "    lines = data.read()\n",
        "    data.close()\n",
        "    all_sentences = [sent for sent in nltk.sent_tokenize(lines)]\n",
        "    all_filtered = []\n",
        "\n",
        "    for sent in all_sentences:\n",
        "        filtered = re.sub('[A-Z]+[A-Z]+[A-Z]*', '', sent)\n",
        "        filtered = re.sub('Mr\\s*\\.|Mrs\\s*\\.|Dr\\s*\\.', '', filtered)\n",
        "        filtered = re.sub('\\s+[A-Z]+[a-z]+', '', filtered)\n",
        "        filtered = re.sub(\" \\d+\", '', filtered)\n",
        "        filtered = re.sub(\"[:,;“”]\", ' ', filtered)\n",
        "        filtered = filtered.lower()\n",
        "        filtered = re.sub(\"\\.\", ' END', filtered)\n",
        "        all_filtered.append(\"%s %s\" % (sentence_start, filtered))\n",
        "\n",
        "    all_tokens = []\n",
        "    for sent in all_filtered:\n",
        "        all_tokens.append(nltk.word_tokenize(sent))\n",
        "\n",
        "    word_frequencies = nltk.FreqDist(itertools.chain(*all_tokens))\n",
        "    vocabulary = word_frequencies.most_common(vocabulary_size - 1)\n",
        "    index_to_word = [tup[0] for tup in vocabulary]\n",
        "    index_to_word.append(unknown_token)\n",
        "    word_to_index = {w: i for i, w in enumerate(index_to_word)}\n",
        "\n",
        "    for i, sentence in enumerate(all_tokens):\n",
        "        all_tokens[i] = [word if word in word_to_index else unknown_token for word in sentence]\n",
        "\n",
        "    max_length = max(len(sent) for sent in all_tokens)\n",
        "\n",
        "    # Pad sequences\n",
        "    padded_tokens = pad_sequences([[word_to_index[word] for word in sent] for sent in all_tokens], max_length)\n",
        "\n",
        "    X_train = np.asarray([seq[:-1] for seq in padded_tokens])\n",
        "    y_train = np.asarray([seq[1:] for seq in padded_tokens])\n",
        "\n",
        "    f = open('/data/X_train.txt', 'w')\n",
        "    for sent in X_train:\n",
        "        f.write(str(sent) + '\\n')\n",
        "\n",
        "    return X_train, y_train, index_to_word\n"
      ],
      "metadata": {
        "id": "2z7wNUwa2rCC"
      },
      "execution_count": 51,
      "outputs": []
    },
    {
      "cell_type": "code",
      "source": [
        "class RNN(nn.Module):\n",
        "    def __init__(self, input_size, hidden_size, output_size):\n",
        "        super(RNN, self).__init__()\n",
        "\n",
        "        self.input_size = input_size\n",
        "        self.hidden_size = hidden_size\n",
        "        self.output_size = output_size\n",
        "\n",
        "        self.l_in = nn.Linear(input_size, hidden_size)\n",
        "        self.l_hidden = nn.Linear(hidden_size, hidden_size)\n",
        "        self.l_out = nn.Linear(hidden_size, output_size)\n",
        "        # self.dropout = nn.Dropout(0.2)\n",
        "\n",
        "        self.relu = nn.ReLU()\n",
        "        self.tan = nn.Tanh()\n",
        "\n",
        "    def forward(self, input, hidden):\n",
        "        inp = self.relu(self.l_in(input))\n",
        "        hidden = self.tan(self.l_hidden(hidden + inp))\n",
        "        output = self.l_out(hidden)\n",
        "        # output = self.dropout(output)\n",
        "        return output, hidden\n",
        "\n",
        "    def initHidden(self):\n",
        "        return Variable(torch.zeros(1, self.hidden_size), requires_grad=True)\n",
        "\n",
        "\n",
        "def sentence_to_tensor(sentence):\n",
        "    tensor = torch.zeros(len(sentence), 1, vocabulary_size)\n",
        "    for wi, word in enumerate(sentence):\n",
        "        tensor[wi][0][word] = 1\n",
        "    return tensor\n",
        "\n",
        "\n",
        "def pick_random(l):\n",
        "    random_index = random.randint(0, len(l) - 1)\n",
        "    return l[random_index], random_index\n",
        "\n",
        "\n",
        "def random_training_ex(X_train, y_train):\n",
        "    random_X_train_example, random_index = pick_random(X_train)\n",
        "    random_y_train_example = y_train[random_index]\n",
        "\n",
        "    x_tensor = sentence_to_tensor(random_X_train_example)\n",
        "    y_tensor = torch.LongTensor(random_y_train_example)\n",
        "\n",
        "    return x_tensor, y_tensor\n",
        "\n",
        "\n",
        "def time_since(since):\n",
        "    s = time.time() - since\n",
        "    m = math.floor(s / 60)\n",
        "    s -= m * 60\n",
        "    return '%dm %ds' % (m, s)"
      ],
      "metadata": {
        "id": "CXcRxppj2rFN"
      },
      "execution_count": 52,
      "outputs": []
    },
    {
      "cell_type": "code",
      "source": [
        "def train(rnn, optimizer, y_tensor, x_tensor):\n",
        "    y_tensor.unsqueeze_(-1)\n",
        "    hidden = rnn.initHidden()\n",
        "    rnn.zero_grad()\n",
        "    loss = 0\n",
        "\n",
        "    # complete bptt\n",
        "    T = x_tensor.size()[0]\n",
        "    for t in range(T):\n",
        "        output, hidden = rnn(x_tensor[t], hidden)\n",
        "        loss += criterion(output, y_tensor[t])\n",
        "\n",
        "    # truncated bptt\n",
        "    \"\"\"T = x_tensor.size()[0]\n",
        "    k = 15\n",
        "    if T > k:\n",
        "        for p in rnn.parameters():\n",
        "            p.requires_grad = False\n",
        "\n",
        "    for t in range(T):\n",
        "        output, hidden = rnn(x_tensor[t], hidden)\n",
        "        if T - t == k:\n",
        "            for p in rnn.parameters():\n",
        "                p.requires_grad = True\n",
        "        if T - t < k:\n",
        "            loss += criterion(output, y_tensor[t])\"\"\"\n",
        "\n",
        "    loss.backward()\n",
        "    optimizer.step()\n",
        "\n",
        "    # updating weights explicitly\n",
        "    # for p in rnn.parameters():\n",
        "    #    p.data.add_(-learning_rate, p.grad.data)\n",
        "\n",
        "    return loss.item() / x_tensor.size(0)\n"
      ],
      "metadata": {
        "id": "Bxooemxq3GiC"
      },
      "execution_count": 53,
      "outputs": []
    },
    {
      "cell_type": "code",
      "source": [
        "def evaluate(rnn, metric, temperature=0.8):\n",
        "    length = random.randint(10, 25)\n",
        "    result = []\n",
        "\n",
        "    input = sentence_to_tensor(np.array([1]))  # Starting with the START token\n",
        "    hidden = rnn.initHidden()\n",
        "\n",
        "    for i in range(length):\n",
        "        output, hidden = rnn(input[0], hidden)\n",
        "        output_dist = output.data.view(-1).div(temperature).exp()\n",
        "        top_i = torch.multinomial(output_dist, 1)[0].item()\n",
        "        pred_word = metric[top_i]\n",
        "\n",
        "        if pred_word == sentence_end:\n",
        "            break\n",
        "        elif pred_word != unknown_token:\n",
        "            result.append(pred_word)\n",
        "\n",
        "        input = sentence_to_tensor(np.array([top_i]))  # Update input with predicted word\n",
        "\n",
        "    # Return the generated sentence\n",
        "    return \" \".join(result)"
      ],
      "metadata": {
        "id": "JYv4opp43IIz"
      },
      "execution_count": 54,
      "outputs": []
    },
    {
      "cell_type": "code",
      "source": [
        "epochs = 10000\n",
        "print_every = 500\n",
        "plot_every = 50\n",
        "hidden_size = 100\n",
        "learning_rate = 0.005\n",
        "\n",
        "criterion = nn.CrossEntropyLoss()"
      ],
      "metadata": {
        "id": "lfmTSLxx2rJP"
      },
      "execution_count": 55,
      "outputs": []
    },
    {
      "cell_type": "code",
      "source": [
        "X_train, y_train, index_to_word = preprocessing()\n",
        "model = RNN(vocabulary_size, hidden_size, vocabulary_size)\n",
        "start = time.time()\n",
        "all_losses = []\n",
        "current_loss = 0\n",
        "optimizer = torch.optim.Adam(model.parameters())\n",
        "\n",
        "for iter in range(1, epochs + 1):\n",
        "  x_tensor, y_tensor = random_training_ex(X_train, y_train)\n",
        "  loss = train(model, optimizer, y_tensor, x_tensor)\n",
        "  current_loss += loss\n",
        "\n",
        "  if iter % print_every == 0:\n",
        "    print('%s (%d %d%%) %.10f' % (time_since(start), iter, iter / epochs * 100, loss))\n",
        "\n",
        "  if iter % plot_every == 0:\n",
        "    all_losses.append(current_loss / plot_every)\n",
        "    current_loss = 0\n",
        "\n",
        "plt.figure()\n",
        "plt.plot(all_losses)\n",
        "plt.title('Training Losses')\n",
        "plt.xlabel('Iterations')\n",
        "plt.ylabel('Loss')\n",
        "plt.show()\n",
        "\n",
        "for i in range(30):\n",
        "  generated_sentence = evaluate(model, index_to_word, temperature=0.8)\n",
        "  print(f\"Generated Sentence {i + 1}: {generated_sentence}\")"
      ],
      "metadata": {
        "colab": {
          "base_uri": "https://localhost:8080/",
          "height": 1000
        },
        "id": "zbQTQTtU2rMz",
        "outputId": "aed6eed4-fc26-45fa-ec0a-935bd6829422"
      },
      "execution_count": 57,
      "outputs": [
        {
          "output_type": "stream",
          "name": "stdout",
          "text": [
            "0m 43s (500 5%) 2.0988974938\n",
            "1m 29s (1000 10%) 0.4855050796\n",
            "2m 13s (1500 15%) 0.6227860084\n",
            "2m 57s (2000 20%) 0.3866023039\n",
            "3m 43s (2500 25%) 0.7169957772\n",
            "4m 27s (3000 30%) 0.2480495649\n",
            "5m 12s (3500 35%) 0.9599076296\n",
            "5m 57s (4000 40%) 0.5500157185\n",
            "6m 41s (4500 45%) 1.4045724135\n",
            "7m 29s (5000 50%) 0.6792481251\n",
            "8m 16s (5500 55%) 1.7031983596\n",
            "9m 3s (6000 60%) 0.2863787871\n",
            "9m 48s (6500 65%) 0.9428809728\n",
            "10m 32s (7000 70%) 1.2361229138\n",
            "11m 17s (7500 75%) 1.0550867716\n",
            "12m 1s (8000 80%) 0.2564630019\n",
            "12m 46s (8500 85%) 0.6499975156\n",
            "13m 30s (9000 90%) 0.7453460693\n",
            "14m 14s (9500 95%) 0.8940016918\n",
            "14m 59s (10000 100%) 1.1400608161\n"
          ]
        },
        {
          "output_type": "display_data",
          "data": {
            "text/plain": [
              "<Figure size 640x480 with 1 Axes>"
            ],
            "image/png": "[encoded data removed]"
          },
          "metadata": {}
        },
        {
          "output_type": "stream",
          "name": "stdout",
          "text": [
            "Generated Sentence 1: i had to very good boy you never 're to get us\n",
            "Generated Sentence 2: i did n't even get home talking to you never said\n",
            "Generated Sentence 3: oh i did to go to go of the closet and all\n",
            "Generated Sentence 4: holden no he had her effect for a little time\n",
            "Generated Sentence 5: do you ? all over as dough\n",
            "Generated Sentence 6: i 'll doing she was reading to that and all\n",
            "Generated Sentence 7: it was a big glass under the way and all\n",
            "Generated Sentence 8: i got to throw you 'd just damn quite about movies\n",
            "Generated Sentence 9: do n't know\n",
            "Generated Sentence 10: old i 've feeling getting known girl i did n't like hardly if you 're a bunch of\n",
            "Generated Sentence 11: i had finished on the room\n",
            "Generated Sentence 12: i started simply the first pro ?\n",
            "Generated Sentence 13: i said like on all of and\n",
            "Generated Sentence 14: it was a funny stupid guy around the and and 'd could instance it hung it\n",
            "Generated Sentence 15: what i sat near if everybody looked in the together in the notebooks\n",
            "Generated Sentence 16: i said\n",
            "Generated Sentence 17: i mean she said\n",
            "Generated Sentence 18: i was always pretty favor\n",
            "Generated Sentence 19: i was near too ?\n",
            "Generated Sentence 20: i would n't even her shirt your lousy\n",
            "Generated Sentence 21: i was so in my guy and i had her pass frozen\n",
            "Generated Sentence 22: she was curtains about my\n",
            "Generated Sentence 23: \n",
            "Generated Sentence 24: \n",
            "Generated Sentence 25: i just both in the miles around and come to get to\n",
            "Generated Sentence 26: it was sort of a see a especially the place\n",
            "Generated Sentence 27: i said\n",
            "Generated Sentence 28: i isn't are me\n",
            "Generated Sentence 29: i went in your mind drink and they could all about a damn shirt feet\n",
            "Generated Sentence 30: i could tell look over to his whole students and i could n't go in the of of the can first n't\n"
          ]
        }
      ]
    },
    {
      "cell_type": "code",
      "source": [],
      "metadata": {
        "id": "5RzeyqSCyfdD"
      },
      "execution_count": 21,
      "outputs": []
    },
    {
      "cell_type": "code",
      "source": [],
      "metadata": {
        "id": "9e1m8Wgkyf0p"
      },
      "execution_count": null,
      "outputs": []
    },
    {
      "cell_type": "code",
      "source": [],
      "metadata": {
        "id": "tyMdbmD8vgJV"
      },
      "execution_count": 29,
      "outputs": []
    },
    {
      "cell_type": "code",
      "source": [],
      "metadata": {
        "id": "j7y5pHYkvgMk"
      },
      "execution_count": 24,
      "outputs": []
    },
    {
      "cell_type": "code",
      "source": [
        "\n"
      ],
      "metadata": {
        "id": "X6ccC4MuvgPt"
      },
      "execution_count": 25,
      "outputs": []
    },
    {
      "cell_type": "code",
      "source": [
        "main()"
      ],
      "metadata": {
        "colab": {
          "base_uri": "https://localhost:8080/",
          "height": 1000
        },
        "id": "3juftlPcvgWH",
        "outputId": "110a5877-d4f0-4eb7-ec03-9f9b4af05dd9"
      },
      "execution_count": 32,
      "outputs": [
        {
          "output_type": "stream",
          "name": "stdout",
          "text": [
            "0m 47s (500 5%) 0.6800582592\n",
            "1m 32s (1000 10%) 1.3643181630\n",
            "2m 18s (1500 15%) 0.2210608018\n",
            "3m 2s (2000 20%) 0.3630949901\n",
            "3m 48s (2500 25%) 0.9965762603\n",
            "4m 33s (3000 30%) 0.8262151082\n",
            "5m 19s (3500 35%) 0.4569919293\n",
            "6m 6s (4000 40%) 1.0067222791\n",
            "6m 52s (4500 45%) 0.4338288429\n",
            "7m 37s (5000 50%) 1.2134356376\n",
            "8m 21s (5500 55%) 1.3276191125\n",
            "9m 6s (6000 60%) 0.8837114970\n",
            "9m 51s (6500 65%) 0.2609307705\n",
            "10m 36s (7000 70%) 0.4828401712\n",
            "11m 21s (7500 75%) 1.9574890137\n",
            "12m 12s (8000 80%) 1.0652753390\n",
            "12m 59s (8500 85%) 1.3076480963\n",
            "13m 50s (9000 90%) 0.2882389411\n",
            "14m 45s (9500 95%) 0.7646987622\n",
            "15m 47s (10000 100%) 0.9574345320\n",
            "i could going to say\n",
            "i knew it\n",
            "i even even spent some girl i really\n",
            "if you 're anything about one of the just did in the whole room men\n",
            "every 's of once to tell i turned through the one of very stupid part of the\n",
            "you wo n't be your whole hell to me it\n",
            "i just all as hell\n",
            "i just just do it a good right times\n",
            "that was very whole matter of the mood\n",
            "i mean `` you to be a little little sarcastic and do you\n",
            "i felt even do that is\n",
            "she did n't\n",
            "i went in the time in the phone\n",
            "i 'm pretty good\n",
            "`` you want it to do it and said\n",
            "i was finished\n",
            "i get a boy\n",
            "it sounded a while 's supposed to be a stuff and then i\n",
            "i mean it was to understand though\n",
            "there was sick of pilgrim he's how i mean all of the dumb all i went to i have on the money\n",
            "it was pretty movies\n",
            "i mean it was and raised\n",
            "she had always be her too okay\n",
            "they know that was sitting for a very nervous\n",
            "it was the time that looked down in the floor\n",
            "i went about a terrific guy corny and have on\n",
            "i drove a i'd good on the hell i just just standing it would n't joining\n",
            "that 's two loud\n",
            "it was old men weeks every 'd living cigarettes and the\n",
            "they 'll thought she he shut at with her\n"
          ]
        },
        {
          "output_type": "display_data",
          "data": {
            "text/plain": [
              "<Figure size 640x480 with 1 Axes>"
            ],
            "image/png": "[encoded data removed]"
          },
          "metadata": {}
        }
      ]
    },
    {
      "cell_type": "code",
      "source": [],
      "metadata": {
        "id": "V54-FNIpvgY8"
      },
      "execution_count": null,
      "outputs": []
    },
    {
      "cell_type": "code",
      "source": [],
      "metadata": {
        "id": "MlR9JRpivgcI"
      },
      "execution_count": null,
      "outputs": []
    },
    {
      "cell_type": "code",
      "source": [],
      "metadata": {
        "id": "Q7onJFuKvgfM"
      },
      "execution_count": null,
      "outputs": []
    },
    {
      "cell_type": "code",
      "source": [],
      "metadata": {
        "id": "-VNrS6b4vgiD"
      },
      "execution_count": null,
      "outputs": []
    },
    {
      "cell_type": "code",
      "source": [],
      "metadata": {
        "id": "z-nE5MZQvgkv"
      },
      "execution_count": null,
      "outputs": []
    }
  ]
}